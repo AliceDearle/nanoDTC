{
 "cells": [
  {
   "cell_type": "code",
   "execution_count": 26,
   "outputs": [],
   "source": [
    "%matplotlib qt"
   ],
   "metadata": {
    "collapsed": false,
    "pycharm": {
     "name": "#%%\n"
    }
   }
  },
  {
   "cell_type": "markdown",
   "source": [
    "# Dealing with big data\n",
    "This will show some demos for the discussion on how to work with large data files.\n",
    "\n",
    "## Dask package\n",
    "Dask array provides a parallel, larger-than-memory, n-dimensional array using blocked algorithms.\n",
    "\n",
    "Simply put: distributed Numpy.\n",
    "\n",
    "- Parallel: Uses all of the cores on your computer\n",
    "- Larger-than-memory: Lets you work on datasets that are larger than your available memory by breaking up your array into many small pieces, operating on those pieces in an order that minimizes the memory footprint of your computation, and effectively streaming data from disk.\n",
    "- Blocked Algorithms: Perform large computations by performing many smaller computations\n",
    "\n",
    "This demo was adapted from [dask tutorials](https://github.com/dask/dask-tutorial/blob/master/03_array.ipynb)."
   ],
   "metadata": {
    "collapsed": false,
    "pycharm": {
     "name": "#%% md\n"
    }
   }
  },
  {
   "cell_type": "code",
   "execution_count": 5,
   "outputs": [
    {
     "data": {
      "text/plain": "dask.array<normal, shape=(10000, 10000), dtype=float64, chunksize=(1000, 1000), chunktype=numpy.ndarray>",
      "text/html": "<table>\n<tr>\n<td>\n<table>\n  <thead>\n    <tr><td> </td><th> Array </th><th> Chunk </th></tr>\n  </thead>\n  <tbody>\n    <tr><th> Bytes </th><td> 800.00 MB </td> <td> 8.00 MB </td></tr>\n    <tr><th> Shape </th><td> (10000, 10000) </td> <td> (1000, 1000) </td></tr>\n    <tr><th> Count </th><td> 100 Tasks </td><td> 100 Chunks </td></tr>\n    <tr><th> Type </th><td> float64 </td><td> numpy.ndarray </td></tr>\n  </tbody>\n</table>\n</td>\n<td>\n<svg width=\"170\" height=\"170\" style=\"stroke:rgb(0,0,0);stroke-width:1\" >\n\n  <!-- Horizontal lines -->\n  <line x1=\"0\" y1=\"0\" x2=\"120\" y2=\"0\" style=\"stroke-width:2\" />\n  <line x1=\"0\" y1=\"12\" x2=\"120\" y2=\"12\" />\n  <line x1=\"0\" y1=\"24\" x2=\"120\" y2=\"24\" />\n  <line x1=\"0\" y1=\"36\" x2=\"120\" y2=\"36\" />\n  <line x1=\"0\" y1=\"48\" x2=\"120\" y2=\"48\" />\n  <line x1=\"0\" y1=\"60\" x2=\"120\" y2=\"60\" />\n  <line x1=\"0\" y1=\"72\" x2=\"120\" y2=\"72\" />\n  <line x1=\"0\" y1=\"84\" x2=\"120\" y2=\"84\" />\n  <line x1=\"0\" y1=\"96\" x2=\"120\" y2=\"96\" />\n  <line x1=\"0\" y1=\"108\" x2=\"120\" y2=\"108\" />\n  <line x1=\"0\" y1=\"120\" x2=\"120\" y2=\"120\" style=\"stroke-width:2\" />\n\n  <!-- Vertical lines -->\n  <line x1=\"0\" y1=\"0\" x2=\"0\" y2=\"120\" style=\"stroke-width:2\" />\n  <line x1=\"12\" y1=\"0\" x2=\"12\" y2=\"120\" />\n  <line x1=\"24\" y1=\"0\" x2=\"24\" y2=\"120\" />\n  <line x1=\"36\" y1=\"0\" x2=\"36\" y2=\"120\" />\n  <line x1=\"48\" y1=\"0\" x2=\"48\" y2=\"120\" />\n  <line x1=\"60\" y1=\"0\" x2=\"60\" y2=\"120\" />\n  <line x1=\"72\" y1=\"0\" x2=\"72\" y2=\"120\" />\n  <line x1=\"84\" y1=\"0\" x2=\"84\" y2=\"120\" />\n  <line x1=\"96\" y1=\"0\" x2=\"96\" y2=\"120\" />\n  <line x1=\"108\" y1=\"0\" x2=\"108\" y2=\"120\" />\n  <line x1=\"120\" y1=\"0\" x2=\"120\" y2=\"120\" style=\"stroke-width:2\" />\n\n  <!-- Colored Rectangle -->\n  <polygon points=\"0.000000,0.000000 120.000000,0.000000 120.000000,120.000000 0.000000,120.000000\" style=\"fill:#ECB172A0;stroke-width:0\"/>\n\n  <!-- Text -->\n  <text x=\"60.000000\" y=\"140.000000\" font-size=\"1.0rem\" font-weight=\"100\" text-anchor=\"middle\" >10000</text>\n  <text x=\"140.000000\" y=\"60.000000\" font-size=\"1.0rem\" font-weight=\"100\" text-anchor=\"middle\" transform=\"rotate(-90,140.000000,60.000000)\">10000</text>\n</svg>\n</td>\n</tr>\n</table>"
     },
     "execution_count": 5,
     "metadata": {},
     "output_type": "execute_result"
    }
   ],
   "source": [
    "import dask.array as da\n",
    "example = da.random.normal(10, 0.1, size=(10000, 10000), chunks=(1000, 1000))\n",
    "example"
   ],
   "metadata": {
    "collapsed": false,
    "pycharm": {
     "name": "#%%\n"
    }
   }
  },
  {
   "cell_type": "markdown",
   "source": [
    "### Example:\n",
    "\n",
    "- Construct a 20000x20000 array of normally distributed random values broken up into 1000x1000 sized chunks\n",
    "- Take the mean along one axis\n",
    "- Take every 100th element\n",
    "\n",
    "**NOTE: Show task manager memory profile**"
   ],
   "metadata": {
    "collapsed": false,
    "pycharm": {
     "name": "#%% md\n"
    }
   }
  },
  {
   "cell_type": "code",
   "execution_count": 33,
   "outputs": [],
   "source": [
    "import numpy as np\n"
   ],
   "metadata": {
    "collapsed": false,
    "pycharm": {
     "name": "#%%\n"
    }
   }
  },
  {
   "cell_type": "code",
   "execution_count": 34,
   "outputs": [
    {
     "name": "stdout",
     "output_type": "stream",
     "text": [
      "Wall time: 26.2 s\n"
     ]
    }
   ],
   "source": [
    "%%time\n",
    "x = np.random.normal(10, 0.1, size=(20000, 20000))\n",
    "y = x.mean(axis=0)[::100]"
   ],
   "metadata": {
    "collapsed": false,
    "pycharm": {
     "name": "#%%\n"
    }
   }
  },
  {
   "cell_type": "markdown",
   "source": [
    "**Note: Restart jupyter server** to clear up memory OR **reset_selective the variable**\n",
    "\n",
    "iPython has a set [built-in magic commands](https://ipython.readthedocs.io/en/stable/interactive/magics.html), one of which clears up a variable.\n",
    "However, memory handling in Python is tricky and not that simple."
   ],
   "metadata": {
    "collapsed": false,
    "pycharm": {
     "name": "#%% md\n"
    }
   }
  },
  {
   "cell_type": "code",
   "execution_count": 35,
   "outputs": [],
   "source": [
    "# The -f param will force resetting\n",
    "%reset_selective -f x\n",
    "%reset_selective -f y"
   ],
   "metadata": {
    "collapsed": false,
    "pycharm": {
     "name": "#%%\n"
    }
   }
  },
  {
   "cell_type": "code",
   "execution_count": 36,
   "outputs": [],
   "source": [
    "import dask.array as da"
   ],
   "metadata": {
    "collapsed": false,
    "pycharm": {
     "name": "#%%\n"
    }
   }
  },
  {
   "cell_type": "code",
   "execution_count": 37,
   "outputs": [
    {
     "name": "stdout",
     "output_type": "stream",
     "text": [
      "Wall time: 5.81 s\n"
     ]
    }
   ],
   "source": [
    "%%time\n",
    "x = da.random.normal(10, 0.1, size=(20000, 20000), chunks=(1000, 1000))\n",
    "y = x.mean(axis=0)[::100]\n",
    "y = y.compute()"
   ],
   "metadata": {
    "collapsed": false,
    "pycharm": {
     "name": "#%%\n"
    }
   }
  },
  {
   "cell_type": "markdown",
   "source": [
    "## Sampling with pandas\n",
    "\n",
    "Pandas `sample()` is used to generate a sample random row or column from the function caller data frame."
   ],
   "metadata": {
    "collapsed": false,
    "pycharm": {
     "name": "#%% md\n"
    }
   }
  },
  {
   "cell_type": "code",
   "execution_count": 12,
   "outputs": [
    {
     "data": {
      "text/plain": "    First Name  Gender  Start Date Last Login Time  Salary  Bonus %  \\\n0      Douglas    Male    8/6/1993        12:42 PM   97308    6.945   \n1       Thomas    Male   3/31/1996         6:53 AM   61933    4.170   \n2        Maria  Female   4/23/1993        11:17 AM  130590   11.858   \n3        Jerry    Male    3/4/2005         1:00 PM  138705    9.340   \n4        Larry    Male   1/24/1998         4:47 PM  101004    1.389   \n..         ...     ...         ...             ...     ...      ...   \n995      Henry     NaN  11/23/2014         6:09 AM  132483   16.655   \n996    Phillip    Male   1/31/1984         6:30 AM   42392   19.675   \n997    Russell    Male   5/20/2013        12:39 PM   96914    1.421   \n998      Larry    Male   4/20/2013         4:45 PM   60500   11.985   \n999     Albert    Male   5/15/2012         6:24 PM  129949   10.169   \n\n    Senior Management                  Team  \n0                True             Marketing  \n1                True                   NaN  \n2               False               Finance  \n3                True               Finance  \n4                True       Client Services  \n..                ...                   ...  \n995             False          Distribution  \n996             False               Finance  \n997             False               Product  \n998             False  Business Development  \n999              True                 Sales  \n\n[1000 rows x 8 columns]",
      "text/html": "<div>\n<style scoped>\n    .dataframe tbody tr th:only-of-type {\n        vertical-align: middle;\n    }\n\n    .dataframe tbody tr th {\n        vertical-align: top;\n    }\n\n    .dataframe thead th {\n        text-align: right;\n    }\n</style>\n<table border=\"1\" class=\"dataframe\">\n  <thead>\n    <tr style=\"text-align: right;\">\n      <th></th>\n      <th>First Name</th>\n      <th>Gender</th>\n      <th>Start Date</th>\n      <th>Last Login Time</th>\n      <th>Salary</th>\n      <th>Bonus %</th>\n      <th>Senior Management</th>\n      <th>Team</th>\n    </tr>\n  </thead>\n  <tbody>\n    <tr>\n      <td>0</td>\n      <td>Douglas</td>\n      <td>Male</td>\n      <td>8/6/1993</td>\n      <td>12:42 PM</td>\n      <td>97308</td>\n      <td>6.945</td>\n      <td>True</td>\n      <td>Marketing</td>\n    </tr>\n    <tr>\n      <td>1</td>\n      <td>Thomas</td>\n      <td>Male</td>\n      <td>3/31/1996</td>\n      <td>6:53 AM</td>\n      <td>61933</td>\n      <td>4.170</td>\n      <td>True</td>\n      <td>NaN</td>\n    </tr>\n    <tr>\n      <td>2</td>\n      <td>Maria</td>\n      <td>Female</td>\n      <td>4/23/1993</td>\n      <td>11:17 AM</td>\n      <td>130590</td>\n      <td>11.858</td>\n      <td>False</td>\n      <td>Finance</td>\n    </tr>\n    <tr>\n      <td>3</td>\n      <td>Jerry</td>\n      <td>Male</td>\n      <td>3/4/2005</td>\n      <td>1:00 PM</td>\n      <td>138705</td>\n      <td>9.340</td>\n      <td>True</td>\n      <td>Finance</td>\n    </tr>\n    <tr>\n      <td>4</td>\n      <td>Larry</td>\n      <td>Male</td>\n      <td>1/24/1998</td>\n      <td>4:47 PM</td>\n      <td>101004</td>\n      <td>1.389</td>\n      <td>True</td>\n      <td>Client Services</td>\n    </tr>\n    <tr>\n      <td>...</td>\n      <td>...</td>\n      <td>...</td>\n      <td>...</td>\n      <td>...</td>\n      <td>...</td>\n      <td>...</td>\n      <td>...</td>\n      <td>...</td>\n    </tr>\n    <tr>\n      <td>995</td>\n      <td>Henry</td>\n      <td>NaN</td>\n      <td>11/23/2014</td>\n      <td>6:09 AM</td>\n      <td>132483</td>\n      <td>16.655</td>\n      <td>False</td>\n      <td>Distribution</td>\n    </tr>\n    <tr>\n      <td>996</td>\n      <td>Phillip</td>\n      <td>Male</td>\n      <td>1/31/1984</td>\n      <td>6:30 AM</td>\n      <td>42392</td>\n      <td>19.675</td>\n      <td>False</td>\n      <td>Finance</td>\n    </tr>\n    <tr>\n      <td>997</td>\n      <td>Russell</td>\n      <td>Male</td>\n      <td>5/20/2013</td>\n      <td>12:39 PM</td>\n      <td>96914</td>\n      <td>1.421</td>\n      <td>False</td>\n      <td>Product</td>\n    </tr>\n    <tr>\n      <td>998</td>\n      <td>Larry</td>\n      <td>Male</td>\n      <td>4/20/2013</td>\n      <td>4:45 PM</td>\n      <td>60500</td>\n      <td>11.985</td>\n      <td>False</td>\n      <td>Business Development</td>\n    </tr>\n    <tr>\n      <td>999</td>\n      <td>Albert</td>\n      <td>Male</td>\n      <td>5/15/2012</td>\n      <td>6:24 PM</td>\n      <td>129949</td>\n      <td>10.169</td>\n      <td>True</td>\n      <td>Sales</td>\n    </tr>\n  </tbody>\n</table>\n<p>1000 rows × 8 columns</p>\n</div>"
     },
     "execution_count": 12,
     "metadata": {},
     "output_type": "execute_result"
    }
   ],
   "source": [
    "# importing pandas package\n",
    "import pandas as pd\n",
    "\n",
    "# making data frame from csv file\n",
    "df = pd.read_csv(\"dummy_data.csv\")\n",
    "df"
   ],
   "metadata": {
    "collapsed": false,
    "pycharm": {
     "name": "#%%\n"
    }
   }
  },
  {
   "cell_type": "code",
   "execution_count": 9,
   "outputs": [
    {
     "data": {
      "text/plain": "    First Name Gender Start Date Last Login Time  Salary  Bonus %  \\\n880     Robert    NaN  5/25/2007         3:17 AM   90998    8.382   \n\n    Senior Management     Team  \n880             False  Finance  ",
      "text/html": "<div>\n<style scoped>\n    .dataframe tbody tr th:only-of-type {\n        vertical-align: middle;\n    }\n\n    .dataframe tbody tr th {\n        vertical-align: top;\n    }\n\n    .dataframe thead th {\n        text-align: right;\n    }\n</style>\n<table border=\"1\" class=\"dataframe\">\n  <thead>\n    <tr style=\"text-align: right;\">\n      <th></th>\n      <th>First Name</th>\n      <th>Gender</th>\n      <th>Start Date</th>\n      <th>Last Login Time</th>\n      <th>Salary</th>\n      <th>Bonus %</th>\n      <th>Senior Management</th>\n      <th>Team</th>\n    </tr>\n  </thead>\n  <tbody>\n    <tr>\n      <td>880</td>\n      <td>Robert</td>\n      <td>NaN</td>\n      <td>5/25/2007</td>\n      <td>3:17 AM</td>\n      <td>90998</td>\n      <td>8.382</td>\n      <td>False</td>\n      <td>Finance</td>\n    </tr>\n  </tbody>\n</table>\n</div>"
     },
     "execution_count": 9,
     "metadata": {},
     "output_type": "execute_result"
    }
   ],
   "source": [
    "# Sample only 5 data points\n",
    "df.sample(n = 5)"
   ],
   "metadata": {
    "collapsed": false,
    "pycharm": {
     "name": "#%%\n"
    }
   }
  },
  {
   "cell_type": "code",
   "execution_count": 10,
   "outputs": [
    {
     "data": {
      "text/plain": "    First Name  Gender  Start Date Last Login Time  Salary  Bonus %  \\\n184      Jerry    Male  12/18/2003         6:46 AM  140810    9.177   \n278      Betty  Female   6/28/2005         6:03 PM   51613   12.984   \n402    Richard     NaN  11/28/1992         5:05 PM  124655   14.272   \n942       Lori  Female  11/20/2015         1:15 PM   75498    6.537   \n711      Karen  Female    1/9/2014        10:09 PM   46478   16.552   \n..         ...     ...         ...             ...     ...      ...   \n358      Scott    Male  12/17/2011         3:45 AM   90429    4.450   \n813     Evelyn  Female   2/10/2002         4:44 AM  123621   19.767   \n188    Charles    Male  10/14/2000         9:40 PM   71749   15.931   \n533       Earl    Male   2/11/2014         9:03 PM   52620   13.773   \n879        Amy  Female   5/20/2009         6:26 AM   75415   19.132   \n\n    Senior Management             Team  \n184              True  Client Services  \n278             False     Distribution  \n402              True      Engineering  \n942              True        Marketing  \n711             False      Engineering  \n..                ...              ...  \n358             False          Product  \n813              True        Marketing  \n188             False            Legal  \n533             False          Product  \n879             False  Client Services  \n\n[200 rows x 8 columns]",
      "text/html": "<div>\n<style scoped>\n    .dataframe tbody tr th:only-of-type {\n        vertical-align: middle;\n    }\n\n    .dataframe tbody tr th {\n        vertical-align: top;\n    }\n\n    .dataframe thead th {\n        text-align: right;\n    }\n</style>\n<table border=\"1\" class=\"dataframe\">\n  <thead>\n    <tr style=\"text-align: right;\">\n      <th></th>\n      <th>First Name</th>\n      <th>Gender</th>\n      <th>Start Date</th>\n      <th>Last Login Time</th>\n      <th>Salary</th>\n      <th>Bonus %</th>\n      <th>Senior Management</th>\n      <th>Team</th>\n    </tr>\n  </thead>\n  <tbody>\n    <tr>\n      <td>184</td>\n      <td>Jerry</td>\n      <td>Male</td>\n      <td>12/18/2003</td>\n      <td>6:46 AM</td>\n      <td>140810</td>\n      <td>9.177</td>\n      <td>True</td>\n      <td>Client Services</td>\n    </tr>\n    <tr>\n      <td>278</td>\n      <td>Betty</td>\n      <td>Female</td>\n      <td>6/28/2005</td>\n      <td>6:03 PM</td>\n      <td>51613</td>\n      <td>12.984</td>\n      <td>False</td>\n      <td>Distribution</td>\n    </tr>\n    <tr>\n      <td>402</td>\n      <td>Richard</td>\n      <td>NaN</td>\n      <td>11/28/1992</td>\n      <td>5:05 PM</td>\n      <td>124655</td>\n      <td>14.272</td>\n      <td>True</td>\n      <td>Engineering</td>\n    </tr>\n    <tr>\n      <td>942</td>\n      <td>Lori</td>\n      <td>Female</td>\n      <td>11/20/2015</td>\n      <td>1:15 PM</td>\n      <td>75498</td>\n      <td>6.537</td>\n      <td>True</td>\n      <td>Marketing</td>\n    </tr>\n    <tr>\n      <td>711</td>\n      <td>Karen</td>\n      <td>Female</td>\n      <td>1/9/2014</td>\n      <td>10:09 PM</td>\n      <td>46478</td>\n      <td>16.552</td>\n      <td>False</td>\n      <td>Engineering</td>\n    </tr>\n    <tr>\n      <td>...</td>\n      <td>...</td>\n      <td>...</td>\n      <td>...</td>\n      <td>...</td>\n      <td>...</td>\n      <td>...</td>\n      <td>...</td>\n      <td>...</td>\n    </tr>\n    <tr>\n      <td>358</td>\n      <td>Scott</td>\n      <td>Male</td>\n      <td>12/17/2011</td>\n      <td>3:45 AM</td>\n      <td>90429</td>\n      <td>4.450</td>\n      <td>False</td>\n      <td>Product</td>\n    </tr>\n    <tr>\n      <td>813</td>\n      <td>Evelyn</td>\n      <td>Female</td>\n      <td>2/10/2002</td>\n      <td>4:44 AM</td>\n      <td>123621</td>\n      <td>19.767</td>\n      <td>True</td>\n      <td>Marketing</td>\n    </tr>\n    <tr>\n      <td>188</td>\n      <td>Charles</td>\n      <td>Male</td>\n      <td>10/14/2000</td>\n      <td>9:40 PM</td>\n      <td>71749</td>\n      <td>15.931</td>\n      <td>False</td>\n      <td>Legal</td>\n    </tr>\n    <tr>\n      <td>533</td>\n      <td>Earl</td>\n      <td>Male</td>\n      <td>2/11/2014</td>\n      <td>9:03 PM</td>\n      <td>52620</td>\n      <td>13.773</td>\n      <td>False</td>\n      <td>Product</td>\n    </tr>\n    <tr>\n      <td>879</td>\n      <td>Amy</td>\n      <td>Female</td>\n      <td>5/20/2009</td>\n      <td>6:26 AM</td>\n      <td>75415</td>\n      <td>19.132</td>\n      <td>False</td>\n      <td>Client Services</td>\n    </tr>\n  </tbody>\n</table>\n<p>200 rows × 8 columns</p>\n</div>"
     },
     "execution_count": 10,
     "metadata": {},
     "output_type": "execute_result"
    }
   ],
   "source": [
    "# Sample a 10% of the whole dataset\n",
    "df.sample(frac=0.2)"
   ],
   "metadata": {
    "collapsed": false,
    "pycharm": {
     "name": "#%%\n"
    }
   }
  },
  {
   "cell_type": "markdown",
   "source": [
    "Estimating a parameter and getting the real parameter: comparison."
   ],
   "metadata": {
    "collapsed": false,
    "pycharm": {
     "name": "#%% md\n"
    }
   }
  },
  {
   "cell_type": "code",
   "execution_count": 21,
   "outputs": [
    {
     "name": "stdout",
     "output_type": "stream",
     "text": [
      "Salary     90140.69500\n",
      "Bonus %       10.63084\n",
      "dtype: float64\n",
      "--------\n",
      "Salary     34158.886893\n",
      "Bonus %        5.457243\n",
      "dtype: float64\n"
     ]
    }
   ],
   "source": [
    "estimated_m = df.sample(frac=0.2).mean(axis = 0, skipna = True)\n",
    "estimated_std = df.sample(frac=0.2).std(axis = 0, skipna = True)\n",
    "print('Mean')\n",
    "print(estimated_m)\n",
    "print('--------')\n",
    "print('Standard deviation')\n",
    "print(estimated_std)"
   ],
   "metadata": {
    "collapsed": false,
    "pycharm": {
     "name": "#%%\n"
    }
   }
  },
  {
   "cell_type": "code",
   "execution_count": 23,
   "outputs": [
    {
     "name": "stdout",
     "output_type": "stream",
     "text": [
      "Mean\n",
      "Salary     90662.181000\n",
      "Bonus %       10.207555\n",
      "dtype: float64\n",
      "--------\n",
      "Standard deviation\n",
      "Salary     32923.693342\n",
      "Bonus %        5.528481\n",
      "dtype: float64\n"
     ]
    }
   ],
   "source": [
    "estimated_m = df.mean(axis = 0, skipna = True)\n",
    "estimated_std = df.std(axis = 0, skipna = True)\n",
    "print('Mean')\n",
    "print(estimated_m)\n",
    "print('--------')\n",
    "print('Standard deviation')\n",
    "print(estimated_std)"
   ],
   "metadata": {
    "collapsed": false,
    "pycharm": {
     "name": "#%%\n"
    }
   }
  },
  {
   "cell_type": "markdown",
   "source": [
    "## Rebinning data\n",
    "\n",
    "The `rebin()` method supports rebinning the data to arbitrary new shapes as long as the number of dimensions stays the same.\n",
    "It can use two different algorithms:\n",
    "\n",
    "- If the new shape dimensions are divisors of the old shape’s, the operation supports easy computation and is usually faster.\n",
    "- Otherwise, the operation requires linear interpolation and is generally slower."
   ],
   "metadata": {
    "collapsed": false,
    "pycharm": {
     "name": "#%% md\n"
    }
   }
  },
  {
   "cell_type": "code",
   "execution_count": 27,
   "outputs": [],
   "source": [
    "import hyperspy.api as hs\n",
    "s = hs.datasets.example_signals.EDS_SEM_Spectrum().as_lazy()\n",
    "s.plot()"
   ],
   "metadata": {
    "collapsed": false,
    "pycharm": {
     "name": "#%%\n"
    }
   }
  },
  {
   "cell_type": "code",
   "execution_count": 28,
   "outputs": [],
   "source": [
    "s_bin = s.rebin(scale=[4])\n",
    "s_bin.plot()"
   ],
   "metadata": {
    "collapsed": false,
    "pycharm": {
     "name": "#%%\n"
    }
   }
  },
  {
   "cell_type": "code",
   "execution_count": 32,
   "outputs": [
    {
     "data": {
      "text/plain": "(4096, 1024)"
     },
     "execution_count": 32,
     "metadata": {},
     "output_type": "execute_result"
    }
   ],
   "source": [
    "# Check the number of bytes for each object\n",
    "s.data.nbytes, s_bin.data.nbytes"
   ],
   "metadata": {
    "collapsed": false,
    "pycharm": {
     "name": "#%%\n"
    }
   }
  },
  {
   "cell_type": "code",
   "execution_count": null,
   "outputs": [],
   "source": [
    "\n"
   ],
   "metadata": {
    "collapsed": false,
    "pycharm": {
     "name": "#%%\n"
    }
   }
  }
 ],
 "metadata": {
  "kernelspec": {
   "display_name": "Python 3",
   "language": "python",
   "name": "python3"
  },
  "language_info": {
   "codemirror_mode": {
    "name": "ipython",
    "version": 2
   },
   "file_extension": ".py",
   "mimetype": "text/x-python",
   "name": "python",
   "nbconvert_exporter": "python",
   "pygments_lexer": "ipython2",
   "version": "2.7.6"
  }
 },
 "nbformat": 4,
 "nbformat_minor": 0
}