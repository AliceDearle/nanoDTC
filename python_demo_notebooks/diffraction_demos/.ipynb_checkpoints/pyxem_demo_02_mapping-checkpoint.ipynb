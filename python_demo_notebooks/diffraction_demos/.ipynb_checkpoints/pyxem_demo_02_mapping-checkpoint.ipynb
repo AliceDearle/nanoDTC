{
 "cells": [
  {
   "cell_type": "markdown",
   "metadata": {},
   "source": [
    "# Introduction"
   ]
  },
  {
   "cell_type": "markdown",
   "metadata": {},
   "source": [
    "This tutorial demonstrates how to achieve phase and orientation mapping via scanning electron diffraction using both pattern and vector matching."
   ]
  },
  {
   "cell_type": "markdown",
   "metadata": {},
   "source": [
    "The data was acquired from a GaAs nanowire displaying polymorphism between zinc blende and wurtzite structures."
   ]
  },
  {
   "cell_type": "markdown",
   "metadata": {},
   "source": [
    "This functionaility has been checked to run in pyxem-0.11.0 (May 2020). Bugs are always possible, do not trust the code blindly, and if you experience any issues please report them here: https://github.com/pyxem/pyxem-demos/issues"
   ]
  },
  {
   "cell_type": "markdown",
   "metadata": {},
   "source": [
    "Import pyXem and other required libraries"
   ]
  },
  {
   "cell_type": "code",
   "execution_count": 1,
   "metadata": {},
   "outputs": [],
   "source": [
    "%matplotlib qt\n",
    "import math\n",
    "import numpy as np\n",
    "import diffpy\n",
    "\n",
    "import pyxem as pxm\n",
    "\n",
    "accelarating_voltage = 200  # kV\n",
    "camera_length = 0.2  # m\n",
    "diffraction_calibration = 0.032  # px / Angstrom"
   ]
  },
  {
   "cell_type": "markdown",
   "metadata": {},
   "source": [
    "# <a id='loa'></a> 1. Loading and Inspection"
   ]
  },
  {
   "cell_type": "markdown",
   "metadata": {},
   "source": [
    "Load the demo data"
   ]
  },
  {
   "cell_type": "code",
   "execution_count": 13,
   "metadata": {},
   "outputs": [],
   "source": [
    "dp = pxm.load_hspy('data/02/polymorphic_nanowire.hdf5')\n",
    "dp = pxm.signals.electron_diffraction2d.ElectronDiffraction2D(dp)\n",
    "dp.plot(cmap='viridis')"
   ]
  },
  {
   "cell_type": "markdown",
   "metadata": {},
   "source": [
    "Set data type, scale intensity range and set calibration"
   ]
  },
  {
   "cell_type": "code",
   "execution_count": 14,
   "metadata": {},
   "outputs": [],
   "source": [
    "dp.data = dp.data.astype('float64')\n",
    "dp.data *= 1 / dp.data.max()"
   ]
  },
  {
   "cell_type": "markdown",
   "metadata": {},
   "source": [
    "Plot an interactive virtual image to get Bright field and Dark field images"
   ]
  },
  {
   "cell_type": "code",
   "execution_count": 15,
   "metadata": {},
   "outputs": [],
   "source": [
    "roi = pxm.roi.CircleROI(cx=72, cy=72, r_inner=0, r=2)\n",
    "dp.plot_interactive_virtual_image(roi=roi, cmap='viridis')"
   ]
  },
  {
   "cell_type": "markdown",
   "metadata": {},
   "source": [
    "# <a id='pre'></a> 2. Pre-processing"
   ]
  },
  {
   "cell_type": "markdown",
   "metadata": {},
   "source": [
    "Apply affine transformation to correct for off axis camera geometry"
   ]
  },
  {
   "cell_type": "code",
   "execution_count": 16,
   "metadata": {},
   "outputs": [
    {
     "data": {
      "text/plain": "HBox(children=(IntProgress(value=0, max=900), HTML(value='')))",
      "application/vnd.jupyter.widget-view+json": {
       "version_major": 2,
       "version_minor": 0,
       "model_id": "a62d8077021441a2a85c7d2e744520eb"
      }
     },
     "metadata": {},
     "output_type": "display_data"
    }
   ],
   "source": [
    "scale_x = 0.995\n",
    "scale_y = 1.031\n",
    "offset_x = 0.631\n",
    "offset_y = -0.351\n",
    "dp.apply_affine_transformation(np.array([[scale_x, 0, offset_x],\n",
    "                                         [0, scale_y, offset_y],\n",
    "                                         [0, 0, 1]]))"
   ]
  },
  {
   "cell_type": "markdown",
   "metadata": {},
   "source": [
    "Perform difference of gaussian background subtraction with various parameters on one selected diffraction pattern and plot to identify good parameters"
   ]
  },
  {
   "cell_type": "code",
   "execution_count": 17,
   "metadata": {},
   "outputs": [],
   "source": [
    "from pyxem.utils.expt_utils import investigate_dog_background_removal_interactive"
   ]
  },
  {
   "cell_type": "code",
   "execution_count": 18,
   "metadata": {},
   "outputs": [
    {
     "name": "stderr",
     "output_type": "stream",
     "text": [
      "\n",
      "  0%|          | 0/50 [00:00<?, ?it/s]\n",
      "  2%|▏         | 1/50 [00:00<00:06,  7.89it/s]\n",
      "  4%|▍         | 2/50 [00:00<00:06,  7.50it/s]\n",
      "  6%|▌         | 3/50 [00:00<00:06,  7.57it/s]\n",
      "  8%|▊         | 4/50 [00:00<00:06,  7.56it/s]\n",
      " 10%|█         | 5/50 [00:00<00:06,  7.48it/s]\n",
      " 12%|█▏        | 6/50 [00:00<00:05,  7.64it/s]\n",
      " 14%|█▍        | 7/50 [00:00<00:05,  7.68it/s]\n",
      " 16%|█▌        | 8/50 [00:01<00:05,  7.60it/s]\n",
      " 18%|█▊        | 9/50 [00:01<00:05,  7.58it/s]\n",
      " 20%|██        | 10/50 [00:01<00:05,  7.43it/s]\n",
      " 22%|██▏       | 11/50 [00:01<00:05,  7.13it/s]\n",
      " 24%|██▍       | 12/50 [00:01<00:05,  7.28it/s]\n",
      " 26%|██▌       | 13/50 [00:01<00:04,  7.78it/s]\n",
      " 28%|██▊       | 14/50 [00:01<00:04,  8.10it/s]\n",
      " 30%|███       | 15/50 [00:01<00:04,  8.47it/s]\n",
      " 32%|███▏      | 16/50 [00:02<00:04,  8.50it/s]\n",
      " 34%|███▍      | 17/50 [00:02<00:04,  7.84it/s]\n",
      " 36%|███▌      | 18/50 [00:02<00:03,  8.06it/s]\n",
      " 38%|███▊      | 19/50 [00:02<00:03,  8.40it/s]\n",
      " 40%|████      | 20/50 [00:02<00:03,  8.36it/s]\n",
      " 42%|████▏     | 21/50 [00:02<00:03,  8.47it/s]\n",
      " 44%|████▍     | 22/50 [00:02<00:03,  8.63it/s]\n",
      " 46%|████▌     | 23/50 [00:02<00:03,  8.57it/s]\n",
      " 48%|████▊     | 24/50 [00:03<00:03,  8.52it/s]\n",
      " 50%|█████     | 25/50 [00:03<00:02,  8.41it/s]\n",
      " 52%|█████▏    | 26/50 [00:03<00:03,  7.88it/s]\n",
      " 54%|█████▍    | 27/50 [00:03<00:02,  7.90it/s]\n",
      " 56%|█████▌    | 28/50 [00:03<00:02,  8.19it/s]\n",
      " 58%|█████▊    | 29/50 [00:03<00:02,  8.28it/s]\n",
      " 60%|██████    | 30/50 [00:03<00:02,  8.41it/s]\n",
      " 62%|██████▏   | 31/50 [00:03<00:02,  8.56it/s]\n",
      " 64%|██████▍   | 32/50 [00:03<00:02,  8.54it/s]\n",
      " 66%|██████▌   | 33/50 [00:04<00:01,  8.57it/s]\n",
      " 68%|██████▊   | 34/50 [00:04<00:01,  8.55it/s]\n",
      " 70%|███████   | 35/50 [00:04<00:01,  8.53it/s]\n",
      " 72%|███████▏  | 36/50 [00:04<00:01,  8.48it/s]\n",
      " 74%|███████▍  | 37/50 [00:04<00:01,  8.42it/s]\n",
      " 76%|███████▌  | 38/50 [00:04<00:01,  8.18it/s]\n",
      " 78%|███████▊  | 39/50 [00:04<00:01,  8.15it/s]\n",
      " 80%|████████  | 40/50 [00:04<00:01,  8.19it/s]\n",
      " 82%|████████▏ | 41/50 [00:05<00:01,  8.18it/s]\n",
      " 84%|████████▍ | 42/50 [00:05<00:00,  8.22it/s]\n",
      " 86%|████████▌ | 43/50 [00:05<00:00,  8.18it/s]\n",
      " 88%|████████▊ | 44/50 [00:05<00:00,  8.07it/s]\n",
      " 90%|█████████ | 45/50 [00:05<00:00,  8.08it/s]\n",
      " 92%|█████████▏| 46/50 [00:05<00:00,  8.10it/s]\n",
      " 94%|█████████▍| 47/50 [00:05<00:00,  7.78it/s]\n",
      " 96%|█████████▌| 48/50 [00:05<00:00,  7.69it/s]\n",
      " 98%|█████████▊| 49/50 [00:06<00:00,  7.52it/s]\n",
      "100%|██████████| 50/50 [00:06<00:00,  7.14it/s]\n",
      "                                               "
     ]
    }
   ],
   "source": [
    "dp_test_area = dp.inav[0, 0]\n",
    "\n",
    "gauss_stddev_maxs = np.arange(2, 12, 0.2) # min, max, step\n",
    "gauss_stddev_mins = np.arange(1, 4, 0.2) # min, max, step\n",
    "\n",
    "investigate_dog_background_removal_interactive(dp_test_area,\n",
    "                                               gauss_stddev_maxs,\n",
    "                                               gauss_stddev_mins)"
   ]
  },
  {
   "cell_type": "markdown",
   "metadata": {},
   "source": [
    "Remove background using difference of gaussians method with parameters identified above"
   ]
  },
  {
   "cell_type": "code",
   "execution_count": 19,
   "metadata": {},
   "outputs": [
    {
     "data": {
      "text/plain": "HBox(children=(IntProgress(value=0, max=900), HTML(value='')))",
      "application/vnd.jupyter.widget-view+json": {
       "version_major": 2,
       "version_minor": 0,
       "model_id": "bff59b3f5ecb4f7093e9c4cd58f36745"
      }
     },
     "metadata": {},
     "output_type": "display_data"
    }
   ],
   "source": [
    "dp = dp.remove_background('gaussian_difference',\n",
    "                          sigma_min=2, sigma_max=8)\n",
    "dp.data -= dp.data.min()\n",
    "dp.data *= 1 / dp.data.max()"
   ]
  },
  {
   "cell_type": "markdown",
   "metadata": {},
   "source": [
    "Set diffraction calibration and scan calibration"
   ]
  },
  {
   "cell_type": "code",
   "execution_count": 20,
   "metadata": {},
   "outputs": [],
   "source": [
    "dp.set_diffraction_calibration(diffraction_calibration)\n",
    "dp.set_scan_calibration(10)"
   ]
  },
  {
   "cell_type": "markdown",
   "metadata": {},
   "source": [
    "# <a id='tem'></a> 3. Pattern Matching"
   ]
  },
  {
   "cell_type": "markdown",
   "metadata": {},
   "source": [
    "Pattern matching generates a database of simulated diffraction patterns and then compares all simulated patterns against each experimental pattern to find the best match"
   ]
  },
  {
   "cell_type": "markdown",
   "metadata": {},
   "source": [
    "Import generators required for simulation and indexation"
   ]
  },
  {
   "cell_type": "code",
   "execution_count": 3,
   "metadata": {},
   "outputs": [],
   "source": [
    "from diffsims.libraries.structure_library import StructureLibrary\n",
    "from diffsims.generators.diffraction_generator import DiffractionGenerator\n",
    "from diffsims.generators.library_generator import DiffractionLibraryGenerator\n",
    "\n",
    "from diffsims.generators.zap_map_generator import get_rotation_from_z_to_direction\n",
    "from diffsims.generators.rotation_list_generators import get_grid_around_beam_direction\n",
    "\n",
    "from pyxem.generators.indexation_generator import IndexationGenerator"
   ]
  },
  {
   "cell_type": "markdown",
   "metadata": {},
   "source": [
    "## 3.1. Define Library of Structures & Orientations"
   ]
  },
  {
   "cell_type": "markdown",
   "metadata": {},
   "source": [
    "Define the crystal phases to be included in the simulated library"
   ]
  },
  {
   "cell_type": "code",
   "execution_count": 4,
   "metadata": {},
   "outputs": [],
   "source": [
    "structure_zb = diffpy.structure.loadStructure('data/02/GaAs_mp-2534_conventional_standard.cif')\n",
    "structure_wz = diffpy.structure.loadStructure('data/02/GaAs_mp-8883_conventional_standard.cif')"
   ]
  },
  {
   "cell_type": "markdown",
   "metadata": {},
   "source": [
    "Create a basic rotations list.    "
   ]
  },
  {
   "cell_type": "code",
   "execution_count": 5,
   "metadata": {},
   "outputs": [],
   "source": [
    "za110c = get_rotation_from_z_to_direction(structure_zb, [1,1,0])\n",
    "rot_list_cubic = get_grid_around_beam_direction(beam_rotation=za110c, resolution=1, angular_range=(0,180))"
   ]
  },
  {
   "cell_type": "code",
   "execution_count": 6,
   "metadata": {},
   "outputs": [],
   "source": [
    "za110h = get_rotation_from_z_to_direction(structure_wz, [1,1,0])\n",
    "rot_list_hex = get_grid_around_beam_direction(beam_rotation=za110h, resolution=1, angular_range=(0,180))"
   ]
  },
  {
   "cell_type": "markdown",
   "metadata": {},
   "source": [
    "Construct a StructureLibrary defining crystal structures and orientations for which diffraction will be simulated "
   ]
  },
  {
   "cell_type": "code",
   "execution_count": 7,
   "metadata": {},
   "outputs": [],
   "source": [
    "struc_lib = StructureLibrary(['ZB','WZ'],\n",
    "                             [structure_zb,structure_wz],\n",
    "                             [rot_list_cubic,rot_list_hex])"
   ]
  },
  {
   "cell_type": "markdown",
   "metadata": {},
   "source": [
    "## <a id='temb'></a> 3.2. Simulate Diffraction for all Structures & Orientations"
   ]
  },
  {
   "cell_type": "markdown",
   "metadata": {},
   "source": [
    "Define a diffsims DiffractionGenerator with diffraction simulation parameters"
   ]
  },
  {
   "cell_type": "code",
   "execution_count": 8,
   "metadata": {},
   "outputs": [],
   "source": [
    "diff_gen = DiffractionGenerator(accelerating_voltage=accelarating_voltage,\n",
    "                                max_excitation_error=1/10)"
   ]
  },
  {
   "cell_type": "markdown",
   "metadata": {},
   "source": [
    "Initialize a diffsims DiffractionLibraryGenerator"
   ]
  },
  {
   "cell_type": "code",
   "execution_count": 9,
   "metadata": {},
   "outputs": [],
   "source": [
    "lib_gen = DiffractionLibraryGenerator(diff_gen)"
   ]
  },
  {
   "cell_type": "markdown",
   "metadata": {},
   "source": [
    "Calulate library of diffraction patterns for all phases and unique orientations"
   ]
  },
  {
   "cell_type": "code",
   "execution_count": 10,
   "metadata": {},
   "outputs": [
    {
     "name": "stderr",
     "output_type": "stream",
     "text": [
      "                                                  \r"
     ]
    }
   ],
   "source": [
    "target_pattern_dimension_pixels = dp.axes_manager.signal_shape[0]\n",
    "half_size = target_pattern_dimension_pixels // 2\n",
    "reciprocal_radius = diffraction_calibration*(half_size - 1)\n",
    "\n",
    "diff_lib = lib_gen.get_diffraction_library(struc_lib,\n",
    "                                           calibration=diffraction_calibration,\n",
    "                                           reciprocal_radius=reciprocal_radius,\n",
    "                                           half_shape=(half_size, half_size),\n",
    "                                           with_direct_beam=False)"
   ]
  },
  {
   "cell_type": "markdown",
   "metadata": {},
   "source": [
    "## <a id='temb'></a> 3.3. Pattern Matching Indexation"
   ]
  },
  {
   "cell_type": "markdown",
   "metadata": {},
   "source": [
    "Initialize `IndexationGenerator` with the experimental data and diffraction library and perform correlation, returning the `n_largest` matches with highest correlation."
   ]
  },
  {
   "cell_type": "code",
   "execution_count": 21,
   "metadata": {},
   "outputs": [
    {
     "data": {
      "text/plain": "HBox(children=(IntProgress(value=0, max=900), HTML(value='')))",
      "application/vnd.jupyter.widget-view+json": {
       "version_major": 2,
       "version_minor": 0,
       "model_id": "f04651b406cd4b6fbe87699322813827"
      }
     },
     "metadata": {},
     "output_type": "display_data"
    }
   ],
   "source": [
    "indexer = IndexationGenerator(dp, diff_lib)\n",
    "indexation_results = indexer.correlate(n_largest=3)"
   ]
  },
  {
   "cell_type": "markdown",
   "metadata": {},
   "source": [
    "Get crystallographic map from indexation results"
   ]
  },
  {
   "cell_type": "code",
   "execution_count": 22,
   "metadata": {},
   "outputs": [
    {
     "data": {
      "text/plain": "HBox(children=(IntProgress(value=0, max=900), HTML(value='')))",
      "application/vnd.jupyter.widget-view+json": {
       "version_major": 2,
       "version_minor": 0,
       "model_id": "e10f92098f814cebb38c8b42ddeae976"
      }
     },
     "metadata": {},
     "output_type": "display_data"
    }
   ],
   "source": [
    "crystal_map = indexation_results.get_crystallographic_map()"
   ]
  },
  {
   "cell_type": "markdown",
   "metadata": {},
   "source": [
    "Plot the best matching phase as a function of position and corresponding reliablity"
   ]
  },
  {
   "cell_type": "code",
   "execution_count": 23,
   "metadata": {},
   "outputs": [],
   "source": [
    "crystal_map.get_phase_map().plot()"
   ]
  },
  {
   "cell_type": "markdown",
   "metadata": {},
   "source": [
    "Plot the best matching crystal orientation as a function of position and corresponding reliability"
   ]
  },
  {
   "cell_type": "code",
   "execution_count": null,
   "metadata": {},
   "outputs": [],
   "source": [
    "crystal_map.get_orientation_map().plot()"
   ]
  },
  {
   "cell_type": "markdown",
   "metadata": {},
   "source": [
    "Plot the best matching results on the signal to inspect"
   ]
  },
  {
   "cell_type": "code",
   "execution_count": 24,
   "metadata": {},
   "outputs": [
    {
     "data": {
      "text/plain": "HBox(children=(IntProgress(value=0, max=400), HTML(value='')))",
      "application/vnd.jupyter.widget-view+json": {
       "version_major": 2,
       "version_minor": 0,
       "model_id": "c99af4a063da48b890013c62ad8cb0ad"
      }
     },
     "metadata": {},
     "output_type": "display_data"
    }
   ],
   "source": [
    "indexation_results.inav[0:20, 10:30].plot_best_matching_results_on_signal(\n",
    "    dp.inav[0:20, 10:30], diff_lib, diff_gen, reciprocal_radius)"
   ]
  },
  {
   "cell_type": "markdown",
   "metadata": {},
   "source": [
    "# <a id='vec'></a> 4. Vector Matching"
   ]
  },
  {
   "cell_type": "markdown",
   "metadata": {},
   "source": [
    "Vector matching generates a database of vector pairs (magnitues and inter-vector angles) and then compares all theoretical values against each measured diffraction vector pair to find the best match"
   ]
  },
  {
   "cell_type": "markdown",
   "metadata": {},
   "source": [
    "Import generators required for simulation and indexation"
   ]
  },
  {
   "cell_type": "code",
   "execution_count": 25,
   "metadata": {},
   "outputs": [],
   "source": [
    "from diffsims.generators.library_generator import VectorLibraryGenerator\n",
    "from diffsims.libraries.structure_library import StructureLibrary\n",
    "from diffsims.libraries.vector_library import load_VectorLibrary\n",
    "\n",
    "from pyxem.generators.indexation_generator import VectorIndexationGenerator\n",
    "\n",
    "from pyxem.generators.subpixelrefinement_generator import SubpixelrefinementGenerator\n",
    "from pyxem.signals.diffraction_vectors import DiffractionVectors"
   ]
  },
  {
   "cell_type": "markdown",
   "metadata": {},
   "source": [
    "## <a id='veca'></a> 4.1. Define Library of Structures"
   ]
  },
  {
   "cell_type": "markdown",
   "metadata": {},
   "source": [
    "Define crystal structure for which to determine theoretical vector pairs"
   ]
  },
  {
   "cell_type": "code",
   "execution_count": 26,
   "metadata": {},
   "outputs": [],
   "source": [
    "structure_zb = diffpy.structure.loadStructure('./data/02/GaAs_mp-2534_conventional_standard.cif')\n",
    "structure_wz = diffpy.structure.loadStructure('./data/02/GaAs_mp-8883_conventional_standard.cif')\n",
    "\n",
    "structure_library = StructureLibrary(['ZB', 'WZ'],\n",
    "                                     [structure_zb, structure_wz],\n",
    "                                     [[], []])"
   ]
  },
  {
   "cell_type": "markdown",
   "metadata": {},
   "source": [
    "Initialize VectorLibraryGenerator with structures to be considered"
   ]
  },
  {
   "cell_type": "code",
   "execution_count": 27,
   "metadata": {},
   "outputs": [],
   "source": [
    "vlib_gen = VectorLibraryGenerator(structure_library)"
   ]
  },
  {
   "cell_type": "markdown",
   "metadata": {},
   "source": [
    "Determine VectorLibrary with all vectors within given reciprocal radius"
   ]
  },
  {
   "cell_type": "code",
   "execution_count": 28,
   "metadata": {},
   "outputs": [
    {
     "name": "stderr",
     "output_type": "stream",
     "text": [
      "\n",
      "\n",
      "\n",
      "\n",
      "\n",
      "  0%|          | 0/2 [00:00<?, ?it/s]\n",
      "\n",
      "\n",
      "\n",
      "\n",
      " 50%|█████     | 1/2 [03:00<03:00, 180.16s/it]\n",
      "\n",
      "\n",
      "\n",
      "\n",
      "100%|██████████| 2/2 [03:21<00:00, 100.93s/it]\n"
     ]
    }
   ],
   "source": [
    "reciprocal_radius = diffraction_calibration*(half_size - 1)\n",
    "\n",
    "vec_lib = vlib_gen.get_vector_library(reciprocal_radius)"
   ]
  },
  {
   "cell_type": "markdown",
   "source": [
    "## 4.2. Find Diffraction Peaks"
   ],
   "metadata": {
    "collapsed": false,
    "pycharm": {
     "name": "#%% md\n"
    }
   }
  },
  {
   "cell_type": "markdown",
   "metadata": {},
   "source": [
    "Tune peak finding parameters interactively"
   ]
  },
  {
   "cell_type": "code",
   "execution_count": null,
   "metadata": {},
   "outputs": [],
   "source": [
    "dp.find_peaks_interactive(imshow_kwargs={'cmap': 'viridis', 'vmax': 0.8})"
   ]
  },
  {
   "cell_type": "markdown",
   "metadata": {},
   "source": [
    "Perform peak finding on the data with parameters from above"
   ]
  },
  {
   "cell_type": "code",
   "execution_count": 29,
   "metadata": {},
   "outputs": [
    {
     "data": {
      "text/plain": "HBox(children=(IntProgress(value=0, max=900), HTML(value='')))",
      "application/vnd.jupyter.widget-view+json": {
       "version_major": 2,
       "version_minor": 0,
       "model_id": "97de7576fe6943f6b5b30e7d39c4c8d7"
      }
     },
     "metadata": {},
     "output_type": "display_data"
    },
    {
     "name": "stderr",
     "output_type": "stream",
     "text": [
      "WARNING:hyperspy.signal:The function you applied does not take into account the difference of units and of scales in-between axes.\n"
     ]
    },
    {
     "data": {
      "text/plain": "HBox(children=(IntProgress(value=0, max=900), HTML(value='')))",
      "application/vnd.jupyter.widget-view+json": {
       "version_major": 2,
       "version_minor": 0,
       "model_id": "6b6f091460eb45c3a3f1c6c79ccabe47"
      }
     },
     "metadata": {},
     "output_type": "display_data"
    }
   ],
   "source": [
    "peaks = dp.find_peaks(method='difference_of_gaussians',\n",
    "                      min_sigma=0.005,\n",
    "                      max_sigma=5.0,\n",
    "                      sigma_ratio=2.0,\n",
    "                      threshold=0.06,\n",
    "                      overlap=0.8)"
   ]
  },
  {
   "cell_type": "markdown",
   "metadata": {},
   "source": [
    "Remove any peaks that are too long or too short"
   ]
  },
  {
   "cell_type": "code",
   "execution_count": 30,
   "metadata": {},
   "outputs": [
    {
     "ename": "AttributeError",
     "evalue": "'DiffractionVectors' object has no attribute 'filter_magnitude'",
     "output_type": "error",
     "traceback": [
      "\u001B[1;31m---------------------------------------------------------------------------\u001B[0m",
      "\u001B[1;31mAttributeError\u001B[0m                            Traceback (most recent call last)",
      "\u001B[1;32m<ipython-input-30-986a9720e2d6>\u001B[0m in \u001B[0;36m<module>\u001B[1;34m\u001B[0m\n\u001B[1;32m----> 1\u001B[1;33m peaks.filter_magnitude(min_magnitude=5 * diffraction_calibration,\n\u001B[0m\u001B[0;32m      2\u001B[0m                        max_magnitude=reciprocal_radius)\n\u001B[0;32m      3\u001B[0m \u001B[1;33m\u001B[0m\u001B[0m\n",
      "\u001B[1;31mAttributeError\u001B[0m: 'DiffractionVectors' object has no attribute 'filter_magnitude'"
     ]
    }
   ],
   "source": [
    "peaks.filter_magnitude(min_magnitude=5 * diffraction_calibration,\n",
    "                       max_magnitude=reciprocal_radius)"
   ]
  },
  {
   "cell_type": "markdown",
   "metadata": {},
   "source": [
    "Refine the peak positions to sub-pixel precision using the center of mass method of a `SubpixelrefinementGenerator`"
   ]
  },
  {
   "cell_type": "code",
   "execution_count": 31,
   "metadata": {},
   "outputs": [
    {
     "name": "stderr",
     "output_type": "stream",
     "text": [
      "WARNING:hyperspy.signal:The function you applied does not take into account the difference of units and of scales in-between axes.\n"
     ]
    },
    {
     "data": {
      "text/plain": "HBox(children=(IntProgress(value=0, max=900), HTML(value='')))",
      "application/vnd.jupyter.widget-view+json": {
       "version_major": 2,
       "version_minor": 0,
       "model_id": "3a1b377a92954200b304b1fc80e50891"
      }
     },
     "metadata": {},
     "output_type": "display_data"
    },
    {
     "data": {
      "text/plain": "HBox(children=(IntProgress(value=0, max=900), HTML(value='')))",
      "application/vnd.jupyter.widget-view+json": {
       "version_major": 2,
       "version_minor": 0,
       "model_id": "bd0dd169d20e4e8fb17063c77ef15531"
      }
     },
     "metadata": {},
     "output_type": "display_data"
    },
    {
     "ename": "IndexError",
     "evalue": "index 0 is out of bounds for axis 0 with size 0",
     "output_type": "error",
     "traceback": [
      "\u001B[1;31m---------------------------------------------------------------------------\u001B[0m",
      "\u001B[1;31mIndexError\u001B[0m                                Traceback (most recent call last)",
      "\u001B[1;32m<ipython-input-31-e13e9ccaeef2>\u001B[0m in \u001B[0;36m<module>\u001B[1;34m\u001B[0m\n\u001B[0;32m      1\u001B[0m \u001B[0msubpixel_refinement\u001B[0m \u001B[1;33m=\u001B[0m \u001B[0mSubpixelrefinementGenerator\u001B[0m\u001B[1;33m(\u001B[0m\u001B[0mdp\u001B[0m\u001B[1;33m,\u001B[0m \u001B[0mpeaks\u001B[0m\u001B[1;33m)\u001B[0m\u001B[1;33m\u001B[0m\u001B[1;33m\u001B[0m\u001B[0m\n\u001B[1;32m----> 2\u001B[1;33m \u001B[0mpeaks\u001B[0m \u001B[1;33m=\u001B[0m \u001B[0mDiffractionVectors\u001B[0m\u001B[1;33m(\u001B[0m\u001B[0msubpixel_refinement\u001B[0m\u001B[1;33m.\u001B[0m\u001B[0mcenter_of_mass_method\u001B[0m\u001B[1;33m(\u001B[0m\u001B[0msquare_size\u001B[0m\u001B[1;33m=\u001B[0m\u001B[1;36m8\u001B[0m\u001B[1;33m)\u001B[0m\u001B[1;33m)\u001B[0m\u001B[1;33m\u001B[0m\u001B[1;33m\u001B[0m\u001B[0m\n\u001B[0m\u001B[0;32m      3\u001B[0m \u001B[0mpeaks\u001B[0m\u001B[1;33m.\u001B[0m\u001B[0maxes_manager\u001B[0m\u001B[1;33m.\u001B[0m\u001B[0mset_signal_dimension\u001B[0m\u001B[1;33m(\u001B[0m\u001B[1;36m0\u001B[0m\u001B[1;33m)\u001B[0m\u001B[1;33m\u001B[0m\u001B[1;33m\u001B[0m\u001B[0m\n\u001B[0;32m      4\u001B[0m \u001B[1;33m\u001B[0m\u001B[0m\n",
      "\u001B[1;32m~\\.conda\\envs\\lumispy\\lib\\site-packages\\pyxem\\generators\\subpixelrefinement_generator.py\u001B[0m in \u001B[0;36mcenter_of_mass_method\u001B[1;34m(self, square_size)\u001B[0m\n\u001B[0;32m    251\u001B[0m                         \u001B[0mcenter\u001B[0m\u001B[1;33m=\u001B[0m\u001B[0mself\u001B[0m\u001B[1;33m.\u001B[0m\u001B[0mcenter\u001B[0m\u001B[1;33m,\u001B[0m\u001B[1;33m\u001B[0m\u001B[1;33m\u001B[0m\u001B[0m\n\u001B[0;32m    252\u001B[0m                         \u001B[0mcalibration\u001B[0m\u001B[1;33m=\u001B[0m\u001B[0mself\u001B[0m\u001B[1;33m.\u001B[0m\u001B[0mcalibration\u001B[0m\u001B[1;33m,\u001B[0m\u001B[1;33m\u001B[0m\u001B[1;33m\u001B[0m\u001B[0m\n\u001B[1;32m--> 253\u001B[1;33m                         inplace=False))\n\u001B[0m\u001B[0;32m    254\u001B[0m         \u001B[0mself\u001B[0m\u001B[1;33m.\u001B[0m\u001B[0mvectors_out\u001B[0m\u001B[1;33m.\u001B[0m\u001B[0maxes_manager\u001B[0m\u001B[1;33m.\u001B[0m\u001B[0mset_signal_dimension\u001B[0m\u001B[1;33m(\u001B[0m\u001B[1;36m0\u001B[0m\u001B[1;33m)\u001B[0m\u001B[1;33m\u001B[0m\u001B[1;33m\u001B[0m\u001B[0m\n\u001B[0;32m    255\u001B[0m \u001B[1;33m\u001B[0m\u001B[0m\n",
      "\u001B[1;32m~\\.conda\\envs\\lumispy\\lib\\site-packages\\hyperspy\\signal.py\u001B[0m in \u001B[0;36mmap\u001B[1;34m(self, function, show_progressbar, parallel, inplace, ragged, **kwargs)\u001B[0m\n\u001B[0;32m   3939\u001B[0m                                     \u001B[0mparallel\u001B[0m\u001B[1;33m=\u001B[0m\u001B[0mparallel\u001B[0m\u001B[1;33m,\u001B[0m \u001B[0minplace\u001B[0m\u001B[1;33m=\u001B[0m\u001B[0minplace\u001B[0m\u001B[1;33m,\u001B[0m\u001B[1;33m\u001B[0m\u001B[1;33m\u001B[0m\u001B[0m\n\u001B[0;32m   3940\u001B[0m                                     \u001B[0mragged\u001B[0m\u001B[1;33m=\u001B[0m\u001B[0mragged\u001B[0m\u001B[1;33m,\u001B[0m\u001B[1;33m\u001B[0m\u001B[1;33m\u001B[0m\u001B[0m\n\u001B[1;32m-> 3941\u001B[1;33m                                     **kwargs)\n\u001B[0m\u001B[0;32m   3942\u001B[0m         \u001B[1;32mif\u001B[0m \u001B[0minplace\u001B[0m\u001B[1;33m:\u001B[0m\u001B[1;33m\u001B[0m\u001B[1;33m\u001B[0m\u001B[0m\n\u001B[0;32m   3943\u001B[0m             \u001B[0mself\u001B[0m\u001B[1;33m.\u001B[0m\u001B[0mevents\u001B[0m\u001B[1;33m.\u001B[0m\u001B[0mdata_changed\u001B[0m\u001B[1;33m.\u001B[0m\u001B[0mtrigger\u001B[0m\u001B[1;33m(\u001B[0m\u001B[0mobj\u001B[0m\u001B[1;33m=\u001B[0m\u001B[0mself\u001B[0m\u001B[1;33m)\u001B[0m\u001B[1;33m\u001B[0m\u001B[1;33m\u001B[0m\u001B[0m\n",
      "\u001B[1;32m~\\.conda\\envs\\lumispy\\lib\\site-packages\\hyperspy\\signal.py\u001B[0m in \u001B[0;36m_map_iterate\u001B[1;34m(self, function, iterating_kwargs, show_progressbar, parallel, ragged, inplace, **kwargs)\u001B[0m\n\u001B[0;32m   4057\u001B[0m                            show_progressbar)\n\u001B[0;32m   4058\u001B[0m         for ind, res in zip(range(res_data.size),\n\u001B[1;32m-> 4059\u001B[1;33m                             thismap(func, zip(*iterators))):\n\u001B[0m\u001B[0;32m   4060\u001B[0m             \u001B[1;31m# In what follows we assume that res is a numpy scalar or array\u001B[0m\u001B[1;33m\u001B[0m\u001B[1;33m\u001B[0m\u001B[1;33m\u001B[0m\u001B[0m\n\u001B[0;32m   4061\u001B[0m             \u001B[1;31m# The following line guarantees that that's the case.\u001B[0m\u001B[1;33m\u001B[0m\u001B[1;33m\u001B[0m\u001B[1;33m\u001B[0m\u001B[0m\n",
      "\u001B[1;32m~\\.conda\\envs\\lumispy\\lib\\concurrent\\futures\\_base.py\u001B[0m in \u001B[0;36mresult_iterator\u001B[1;34m()\u001B[0m\n\u001B[0;32m    584\u001B[0m                     \u001B[1;31m# Careful not to keep a reference to the popped future\u001B[0m\u001B[1;33m\u001B[0m\u001B[1;33m\u001B[0m\u001B[1;33m\u001B[0m\u001B[0m\n\u001B[0;32m    585\u001B[0m                     \u001B[1;32mif\u001B[0m \u001B[0mtimeout\u001B[0m \u001B[1;32mis\u001B[0m \u001B[1;32mNone\u001B[0m\u001B[1;33m:\u001B[0m\u001B[1;33m\u001B[0m\u001B[1;33m\u001B[0m\u001B[0m\n\u001B[1;32m--> 586\u001B[1;33m                         \u001B[1;32myield\u001B[0m \u001B[0mfs\u001B[0m\u001B[1;33m.\u001B[0m\u001B[0mpop\u001B[0m\u001B[1;33m(\u001B[0m\u001B[1;33m)\u001B[0m\u001B[1;33m.\u001B[0m\u001B[0mresult\u001B[0m\u001B[1;33m(\u001B[0m\u001B[1;33m)\u001B[0m\u001B[1;33m\u001B[0m\u001B[1;33m\u001B[0m\u001B[0m\n\u001B[0m\u001B[0;32m    587\u001B[0m                     \u001B[1;32melse\u001B[0m\u001B[1;33m:\u001B[0m\u001B[1;33m\u001B[0m\u001B[1;33m\u001B[0m\u001B[0m\n\u001B[0;32m    588\u001B[0m                         \u001B[1;32myield\u001B[0m \u001B[0mfs\u001B[0m\u001B[1;33m.\u001B[0m\u001B[0mpop\u001B[0m\u001B[1;33m(\u001B[0m\u001B[1;33m)\u001B[0m\u001B[1;33m.\u001B[0m\u001B[0mresult\u001B[0m\u001B[1;33m(\u001B[0m\u001B[0mend_time\u001B[0m \u001B[1;33m-\u001B[0m \u001B[0mtime\u001B[0m\u001B[1;33m.\u001B[0m\u001B[0mmonotonic\u001B[0m\u001B[1;33m(\u001B[0m\u001B[1;33m)\u001B[0m\u001B[1;33m)\u001B[0m\u001B[1;33m\u001B[0m\u001B[1;33m\u001B[0m\u001B[0m\n",
      "\u001B[1;32m~\\.conda\\envs\\lumispy\\lib\\concurrent\\futures\\_base.py\u001B[0m in \u001B[0;36mresult\u001B[1;34m(self, timeout)\u001B[0m\n\u001B[0;32m    423\u001B[0m                 \u001B[1;32mraise\u001B[0m \u001B[0mCancelledError\u001B[0m\u001B[1;33m(\u001B[0m\u001B[1;33m)\u001B[0m\u001B[1;33m\u001B[0m\u001B[1;33m\u001B[0m\u001B[0m\n\u001B[0;32m    424\u001B[0m             \u001B[1;32melif\u001B[0m \u001B[0mself\u001B[0m\u001B[1;33m.\u001B[0m\u001B[0m_state\u001B[0m \u001B[1;33m==\u001B[0m \u001B[0mFINISHED\u001B[0m\u001B[1;33m:\u001B[0m\u001B[1;33m\u001B[0m\u001B[1;33m\u001B[0m\u001B[0m\n\u001B[1;32m--> 425\u001B[1;33m                 \u001B[1;32mreturn\u001B[0m \u001B[0mself\u001B[0m\u001B[1;33m.\u001B[0m\u001B[0m__get_result\u001B[0m\u001B[1;33m(\u001B[0m\u001B[1;33m)\u001B[0m\u001B[1;33m\u001B[0m\u001B[1;33m\u001B[0m\u001B[0m\n\u001B[0m\u001B[0;32m    426\u001B[0m \u001B[1;33m\u001B[0m\u001B[0m\n\u001B[0;32m    427\u001B[0m             \u001B[0mself\u001B[0m\u001B[1;33m.\u001B[0m\u001B[0m_condition\u001B[0m\u001B[1;33m.\u001B[0m\u001B[0mwait\u001B[0m\u001B[1;33m(\u001B[0m\u001B[0mtimeout\u001B[0m\u001B[1;33m)\u001B[0m\u001B[1;33m\u001B[0m\u001B[1;33m\u001B[0m\u001B[0m\n",
      "\u001B[1;32m~\\.conda\\envs\\lumispy\\lib\\concurrent\\futures\\_base.py\u001B[0m in \u001B[0;36m__get_result\u001B[1;34m(self)\u001B[0m\n\u001B[0;32m    382\u001B[0m     \u001B[1;32mdef\u001B[0m \u001B[0m__get_result\u001B[0m\u001B[1;33m(\u001B[0m\u001B[0mself\u001B[0m\u001B[1;33m)\u001B[0m\u001B[1;33m:\u001B[0m\u001B[1;33m\u001B[0m\u001B[1;33m\u001B[0m\u001B[0m\n\u001B[0;32m    383\u001B[0m         \u001B[1;32mif\u001B[0m \u001B[0mself\u001B[0m\u001B[1;33m.\u001B[0m\u001B[0m_exception\u001B[0m\u001B[1;33m:\u001B[0m\u001B[1;33m\u001B[0m\u001B[1;33m\u001B[0m\u001B[0m\n\u001B[1;32m--> 384\u001B[1;33m             \u001B[1;32mraise\u001B[0m \u001B[0mself\u001B[0m\u001B[1;33m.\u001B[0m\u001B[0m_exception\u001B[0m\u001B[1;33m\u001B[0m\u001B[1;33m\u001B[0m\u001B[0m\n\u001B[0m\u001B[0;32m    385\u001B[0m         \u001B[1;32melse\u001B[0m\u001B[1;33m:\u001B[0m\u001B[1;33m\u001B[0m\u001B[1;33m\u001B[0m\u001B[0m\n\u001B[0;32m    386\u001B[0m             \u001B[1;32mreturn\u001B[0m \u001B[0mself\u001B[0m\u001B[1;33m.\u001B[0m\u001B[0m_result\u001B[0m\u001B[1;33m\u001B[0m\u001B[1;33m\u001B[0m\u001B[0m\n",
      "\u001B[1;32m~\\.conda\\envs\\lumispy\\lib\\concurrent\\futures\\thread.py\u001B[0m in \u001B[0;36mrun\u001B[1;34m(self)\u001B[0m\n\u001B[0;32m     54\u001B[0m \u001B[1;33m\u001B[0m\u001B[0m\n\u001B[0;32m     55\u001B[0m         \u001B[1;32mtry\u001B[0m\u001B[1;33m:\u001B[0m\u001B[1;33m\u001B[0m\u001B[1;33m\u001B[0m\u001B[0m\n\u001B[1;32m---> 56\u001B[1;33m             \u001B[0mresult\u001B[0m \u001B[1;33m=\u001B[0m \u001B[0mself\u001B[0m\u001B[1;33m.\u001B[0m\u001B[0mfn\u001B[0m\u001B[1;33m(\u001B[0m\u001B[1;33m*\u001B[0m\u001B[0mself\u001B[0m\u001B[1;33m.\u001B[0m\u001B[0margs\u001B[0m\u001B[1;33m,\u001B[0m \u001B[1;33m**\u001B[0m\u001B[0mself\u001B[0m\u001B[1;33m.\u001B[0m\u001B[0mkwargs\u001B[0m\u001B[1;33m)\u001B[0m\u001B[1;33m\u001B[0m\u001B[1;33m\u001B[0m\u001B[0m\n\u001B[0m\u001B[0;32m     57\u001B[0m         \u001B[1;32mexcept\u001B[0m \u001B[0mBaseException\u001B[0m \u001B[1;32mas\u001B[0m \u001B[0mexc\u001B[0m\u001B[1;33m:\u001B[0m\u001B[1;33m\u001B[0m\u001B[1;33m\u001B[0m\u001B[0m\n\u001B[0;32m     58\u001B[0m             \u001B[0mself\u001B[0m\u001B[1;33m.\u001B[0m\u001B[0mfuture\u001B[0m\u001B[1;33m.\u001B[0m\u001B[0mset_exception\u001B[0m\u001B[1;33m(\u001B[0m\u001B[0mexc\u001B[0m\u001B[1;33m)\u001B[0m\u001B[1;33m\u001B[0m\u001B[1;33m\u001B[0m\u001B[0m\n",
      "\u001B[1;32m~\\.conda\\envs\\lumispy\\lib\\site-packages\\hyperspy\\misc\\utils.py\u001B[0m in \u001B[0;36mfunc\u001B[1;34m(*args)\u001B[0m\n\u001B[0;32m    972\u001B[0m     \u001B[1;32mdef\u001B[0m \u001B[0mfunc\u001B[0m\u001B[1;33m(\u001B[0m\u001B[1;33m*\u001B[0m\u001B[0margs\u001B[0m\u001B[1;33m)\u001B[0m\u001B[1;33m:\u001B[0m\u001B[1;33m\u001B[0m\u001B[1;33m\u001B[0m\u001B[0m\n\u001B[0;32m    973\u001B[0m         \u001B[0mdat\u001B[0m\u001B[1;33m,\u001B[0m \u001B[0mthese_kwargs\u001B[0m \u001B[1;33m=\u001B[0m \u001B[0mfigure_out_kwargs\u001B[0m\u001B[1;33m(\u001B[0m\u001B[1;33m*\u001B[0m\u001B[0margs\u001B[0m\u001B[1;33m)\u001B[0m\u001B[1;33m\u001B[0m\u001B[1;33m\u001B[0m\u001B[0m\n\u001B[1;32m--> 974\u001B[1;33m         \u001B[1;32mreturn\u001B[0m \u001B[0mfunction\u001B[0m\u001B[1;33m(\u001B[0m\u001B[0mdat\u001B[0m\u001B[1;33m,\u001B[0m \u001B[1;33m**\u001B[0m\u001B[0mthese_kwargs\u001B[0m\u001B[1;33m)\u001B[0m\u001B[1;33m\u001B[0m\u001B[1;33m\u001B[0m\u001B[0m\n\u001B[0m\u001B[0;32m    975\u001B[0m \u001B[1;33m\u001B[0m\u001B[0m\n\u001B[0;32m    976\u001B[0m     \u001B[1;32mreturn\u001B[0m \u001B[0mfunc\u001B[0m\u001B[1;33m,\u001B[0m \u001B[0miterators\u001B[0m\u001B[1;33m\u001B[0m\u001B[1;33m\u001B[0m\u001B[0m\n",
      "\u001B[1;32m~\\.conda\\envs\\lumispy\\lib\\site-packages\\pyxem\\generators\\subpixelrefinement_generator.py\u001B[0m in \u001B[0;36m_center_of_mass_map\u001B[1;34m(dp, vectors, square_size, center, calibration)\u001B[0m\n\u001B[0;32m    241\u001B[0m             \u001B[0mshifts\u001B[0m \u001B[1;33m=\u001B[0m \u001B[0mnp\u001B[0m\u001B[1;33m.\u001B[0m\u001B[0mzeros_like\u001B[0m\u001B[1;33m(\u001B[0m\u001B[0mvectors\u001B[0m\u001B[1;33m,\u001B[0m \u001B[0mdtype\u001B[0m\u001B[1;33m=\u001B[0m\u001B[0mnp\u001B[0m\u001B[1;33m.\u001B[0m\u001B[0mfloat64\u001B[0m\u001B[1;33m)\u001B[0m\u001B[1;33m\u001B[0m\u001B[1;33m\u001B[0m\u001B[0m\n\u001B[0;32m    242\u001B[0m             \u001B[1;32mfor\u001B[0m \u001B[0mi\u001B[0m\u001B[1;33m,\u001B[0m \u001B[0mvector\u001B[0m \u001B[1;32min\u001B[0m \u001B[0menumerate\u001B[0m\u001B[1;33m(\u001B[0m\u001B[0mvectors\u001B[0m\u001B[1;33m)\u001B[0m\u001B[1;33m:\u001B[0m\u001B[1;33m\u001B[0m\u001B[1;33m\u001B[0m\u001B[0m\n\u001B[1;32m--> 243\u001B[1;33m                 \u001B[0mexpt_disc\u001B[0m \u001B[1;33m=\u001B[0m \u001B[0m_com_experimental_square\u001B[0m\u001B[1;33m(\u001B[0m\u001B[0mdp\u001B[0m\u001B[1;33m,\u001B[0m \u001B[0mvector\u001B[0m\u001B[1;33m,\u001B[0m \u001B[0msquare_size\u001B[0m\u001B[1;33m)\u001B[0m\u001B[1;33m\u001B[0m\u001B[1;33m\u001B[0m\u001B[0m\n\u001B[0m\u001B[0;32m    244\u001B[0m                 \u001B[0mshifts\u001B[0m\u001B[1;33m[\u001B[0m\u001B[0mi\u001B[0m\u001B[1;33m]\u001B[0m \u001B[1;33m=\u001B[0m \u001B[1;33m[\u001B[0m\u001B[0ma\u001B[0m \u001B[1;33m-\u001B[0m \u001B[0msquare_size\u001B[0m \u001B[1;33m/\u001B[0m \u001B[1;36m2\u001B[0m \u001B[1;32mfor\u001B[0m \u001B[0ma\u001B[0m \u001B[1;32min\u001B[0m \u001B[0m_center_of_mass_hs\u001B[0m\u001B[1;33m(\u001B[0m\u001B[0mexpt_disc\u001B[0m\u001B[1;33m)\u001B[0m\u001B[1;33m]\u001B[0m\u001B[1;33m\u001B[0m\u001B[1;33m\u001B[0m\u001B[0m\n\u001B[0;32m    245\u001B[0m             \u001B[1;32mreturn\u001B[0m \u001B[1;33m(\u001B[0m\u001B[1;33m(\u001B[0m\u001B[0mvectors\u001B[0m \u001B[1;33m+\u001B[0m \u001B[0mshifts\u001B[0m\u001B[1;33m)\u001B[0m \u001B[1;33m-\u001B[0m \u001B[0mcenter\u001B[0m\u001B[1;33m)\u001B[0m \u001B[1;33m*\u001B[0m \u001B[0mcalibration\u001B[0m\u001B[1;33m\u001B[0m\u001B[1;33m\u001B[0m\u001B[0m\n",
      "\u001B[1;32m~\\.conda\\envs\\lumispy\\lib\\site-packages\\pyxem\\generators\\subpixelrefinement_generator.py\u001B[0m in \u001B[0;36m_com_experimental_square\u001B[1;34m(z, vector, square_size)\u001B[0m\n\u001B[0;32m    235\u001B[0m             \u001B[0mz_adpt\u001B[0m \u001B[1;33m=\u001B[0m \u001B[0mnp\u001B[0m\u001B[1;33m.\u001B[0m\u001B[0mcopy\u001B[0m\u001B[1;33m(\u001B[0m\u001B[0mget_experimental_square\u001B[0m\u001B[1;33m(\u001B[0m\u001B[0mz\u001B[0m\u001B[1;33m,\u001B[0m \u001B[0mvector\u001B[0m\u001B[1;33m=\u001B[0m\u001B[0mvector\u001B[0m\u001B[1;33m,\u001B[0m \u001B[0msquare_size\u001B[0m\u001B[1;33m=\u001B[0m\u001B[0msquare_size\u001B[0m\u001B[1;33m)\u001B[0m\u001B[1;33m)\u001B[0m\u001B[1;33m\u001B[0m\u001B[1;33m\u001B[0m\u001B[0m\n\u001B[0;32m    236\u001B[0m             \u001B[0mz_adpt\u001B[0m\u001B[1;33m[\u001B[0m\u001B[1;33m:\u001B[0m\u001B[1;33m,\u001B[0m \u001B[1;36m0\u001B[0m\u001B[1;33m]\u001B[0m \u001B[1;33m=\u001B[0m \u001B[1;36m0\u001B[0m\u001B[1;33m\u001B[0m\u001B[1;33m\u001B[0m\u001B[0m\n\u001B[1;32m--> 237\u001B[1;33m             \u001B[0mz_adpt\u001B[0m\u001B[1;33m[\u001B[0m\u001B[1;36m0\u001B[0m\u001B[1;33m,\u001B[0m \u001B[1;33m:\u001B[0m\u001B[1;33m]\u001B[0m \u001B[1;33m=\u001B[0m \u001B[1;36m0\u001B[0m\u001B[1;33m\u001B[0m\u001B[1;33m\u001B[0m\u001B[0m\n\u001B[0m\u001B[0;32m    238\u001B[0m             \u001B[1;32mreturn\u001B[0m \u001B[0mz_adpt\u001B[0m\u001B[1;33m\u001B[0m\u001B[1;33m\u001B[0m\u001B[0m\n\u001B[0;32m    239\u001B[0m \u001B[1;33m\u001B[0m\u001B[0m\n",
      "\u001B[1;31mIndexError\u001B[0m: index 0 is out of bounds for axis 0 with size 0"
     ]
    }
   ],
   "source": [
    "subpixel_refinement = SubpixelrefinementGenerator(dp, peaks)\n",
    "peaks = DiffractionVectors(subpixel_refinement.center_of_mass_method(square_size=8))\n",
    "peaks.axes_manager.set_signal_dimension(0)"
   ]
  },
  {
   "cell_type": "markdown",
   "metadata": {},
   "source": [
    "`peaks` now contain the 2D positions of the diffraction spots on the detector. The vector matching method works in 3D coordinates, which are found by projecting the detector positions back onto the Ewald sphere."
   ]
  },
  {
   "cell_type": "code",
   "execution_count": 32,
   "metadata": {
    "pycharm": {
     "name": "#%%\n"
    }
   },
   "outputs": [
    {
     "name": "stderr",
     "output_type": "stream",
     "text": [
      "WARNING:hyperspy.signal:The function you applied does not take into account the difference of units and of scales in-between axes.\n"
     ]
    },
    {
     "data": {
      "text/plain": "HBox(children=(IntProgress(value=0, max=900), HTML(value='')))",
      "application/vnd.jupyter.widget-view+json": {
       "version_major": 2,
       "version_minor": 0,
       "model_id": "de2a4121842d4bb89e43ea0c42e1b426"
      }
     },
     "metadata": {},
     "output_type": "display_data"
    }
   ],
   "source": [
    "peaks.calculate_cartesian_coordinates(accelerating_voltage=accelarating_voltage,\n",
    "                                      camera_length=camera_length)\n",
    "\n",
    "\n",
    "\n"
   ]
  }
 ],
 "metadata": {
  "kernelspec": {
   "display_name": "Python 3",
   "language": "python",
   "name": "python3"
  },
  "language_info": {
   "codemirror_mode": {
    "name": "ipython",
    "version": 3
   },
   "file_extension": ".py",
   "mimetype": "text/x-python",
   "name": "python",
   "nbconvert_exporter": "python",
   "pygments_lexer": "ipython3",
   "version": "3.7.6"
  }
 },
 "nbformat": 4,
 "nbformat_minor": 4
}